{
 "cells": [
  {
   "cell_type": "code",
   "execution_count": 12,
   "metadata": {},
   "outputs": [
    {
     "ename": "ModuleNotFoundError",
     "evalue": "No module named 'fastai.vision.all'",
     "output_type": "error",
     "traceback": [
      "\u001b[0;31m---------------------------------------------------------------------------\u001b[0m",
      "\u001b[0;31mModuleNotFoundError\u001b[0m                       Traceback (most recent call last)",
      "\u001b[0;32m<ipython-input-12-c7dc0706fd8b>\u001b[0m in \u001b[0;36m<module>\u001b[0;34m\u001b[0m\n\u001b[1;32m     12\u001b[0m \u001b[0;32mimport\u001b[0m \u001b[0mtorch\u001b[0m\u001b[0;34m\u001b[0m\u001b[0;34m\u001b[0m\u001b[0m\n\u001b[1;32m     13\u001b[0m \u001b[0;32mimport\u001b[0m \u001b[0mfastai\u001b[0m\u001b[0;34m.\u001b[0m\u001b[0mvision\u001b[0m\u001b[0;34m\u001b[0m\u001b[0;34m\u001b[0m\u001b[0m\n\u001b[0;32m---> 14\u001b[0;31m \u001b[0;32mfrom\u001b[0m \u001b[0mfastai\u001b[0m\u001b[0;34m.\u001b[0m\u001b[0mvision\u001b[0m\u001b[0;34m.\u001b[0m\u001b[0mall\u001b[0m \u001b[0;32mimport\u001b[0m \u001b[0;34m*\u001b[0m\u001b[0;34m\u001b[0m\u001b[0;34m\u001b[0m\u001b[0m\n\u001b[0m\u001b[1;32m     15\u001b[0m \u001b[0;32mfrom\u001b[0m \u001b[0mPIL\u001b[0m \u001b[0;32mimport\u001b[0m \u001b[0mImage\u001b[0m\u001b[0;34m\u001b[0m\u001b[0;34m\u001b[0m\u001b[0m\n\u001b[1;32m     16\u001b[0m \u001b[0;32mfrom\u001b[0m \u001b[0mimgaug\u001b[0m \u001b[0;32mimport\u001b[0m \u001b[0maugmenters\u001b[0m \u001b[0;32mas\u001b[0m \u001b[0miaa\u001b[0m\u001b[0;34m\u001b[0m\u001b[0;34m\u001b[0m\u001b[0m\n",
      "\u001b[0;31mModuleNotFoundError\u001b[0m: No module named 'fastai.vision.all'"
     ]
    }
   ],
   "source": [
    "import os\n",
    "import math\n",
    "import time\n",
    "import glob\n",
    "import warnings\n",
    "import random\n",
    "\n",
    "import numpy as np\n",
    "import pandas as pd\n",
    "import matplotlib.pyplot as plt\n",
    "import itertools\n",
    "import torch\n",
    "from fastai.vision.all import *\n",
    "from PIL import Image\n",
    "from imgaug import augmenters as iaa\n",
    "import cv2\n",
    "from builtins import range\n",
    "from skimage.io import imread\n",
    "\n",
    "import tensorflow as tf\n",
    "from tensorflow.keras import applications, backend, callbacks, layers\n",
    "from tensorflow.keras import models, metrics, optimizers, preprocessing\n",
    "from tensorflow.keras import regularizers, utils\n",
    "from tensorflow.keras.preprocessing import image\n",
    "\n",
    "from sklearn.utils import class_weight\n",
    "from sklearn.metrics import confusion_matrix\n",
    "from sklearn.neighbors import KNeighborsClassifier\n",
    "from sklearn.model_selection import train_test_split, cross_val_score, GridSearchCV"
   ]
  },
  {
   "cell_type": "code",
   "execution_count": 5,
   "metadata": {},
   "outputs": [],
   "source": [
    "# Seed randomness for reproducibility\n",
    "SEED = 42\n",
    "tf.random.set_seed(SEED)\n",
    "rs = np.random.RandomState(np.random.MT19937(np.random.SeedSequence(SEED)))\n",
    "\n",
    "# Suppress warnings\n",
    "warnings.filterwarnings(\"ignore\")\n",
    "\n",
    "# Hyperparameters\n",
    "EPOCHS = 3\n",
    "PATIENCE = 4\n",
    "BATCH_SIZE = 50\n",
    "VALIDATION_FRAC = 0.30\n",
    "INIT_LEARN_RATE = 0.01\n",
    "FREEZE_LAYERS_FRAC = 0.94\n",
    "\n",
    "# Inputs \n",
    "COLOR_MODE = 'grayscale'\n",
    "INTERPOLATION = 'hamming'\n",
    "\n",
    "TRAIN_DOWNSAMPLE_FRAC = 1.00\n",
    "\n",
    "SCALE_DIM = 2 # Tested 1-7\n",
    "XCEPT_DIM = 299\n",
    "IMAGE_SIZE = (SCALE_DIM * XCEPT_DIM,\n",
    "              SCALE_DIM * XCEPT_DIM)\n",
    "IMAGE_SHAPE = IMAGE_SIZE + (1,)\n",
    "\n",
    "\n",
    "# Classes\n",
    "CLASS_H = 'Healthy'\n",
    "CLASS_VPNA = 'Viral PNA'\n",
    "CLASS_BPNA = 'Bacterial PNA'\n",
    "\n",
    "# Stages\n",
    "STAGE_TRAIN = 'train'\n",
    "STAGE_VAL = 'val'\n",
    "STAGE_TEST = 'test'\n",
    "\n",
    "# Pathing\n",
    "DATA_PATH = '../dataset'\n",
    "# DATA_PATHCNN = Path('C:\\\\Users\\\\donquijote\\\\Desktop\\\\IA\\\\zoidberg_2020_15\\\\project\\\\dataset\\\\'); path.ls()\n",
    "# Logging\n",
    "VERBOSE = 0"
   ]
  },
  {
   "cell_type": "markdown",
   "metadata": {},
   "source": [
    "The above constants are used throughout the report. They are applied as the base value for all algorithms, but may be updated for the specific case."
   ]
  },
  {
   "cell_type": "code",
   "execution_count": 7,
   "metadata": {},
   "outputs": [
    {
     "data": {
      "text/html": [
       "<div>\n",
       "<style scoped>\n",
       "    .dataframe tbody tr th:only-of-type {\n",
       "        vertical-align: middle;\n",
       "    }\n",
       "\n",
       "    .dataframe tbody tr th {\n",
       "        vertical-align: top;\n",
       "    }\n",
       "\n",
       "    .dataframe thead th {\n",
       "        text-align: right;\n",
       "    }\n",
       "</style>\n",
       "<table border=\"1\" class=\"dataframe\">\n",
       "  <thead>\n",
       "    <tr style=\"text-align: right;\">\n",
       "      <th></th>\n",
       "      <th>filename</th>\n",
       "      <th>width</th>\n",
       "      <th>height</th>\n",
       "      <th>stage</th>\n",
       "      <th>class</th>\n",
       "    </tr>\n",
       "  </thead>\n",
       "  <tbody>\n",
       "    <tr>\n",
       "      <td>0</td>\n",
       "      <td>../dataset/train/PNEUMONIA/person1000_bacteria...</td>\n",
       "      <td>1152</td>\n",
       "      <td>760</td>\n",
       "      <td>train</td>\n",
       "      <td>PNEUMONIA</td>\n",
       "    </tr>\n",
       "    <tr>\n",
       "      <td>1</td>\n",
       "      <td>../dataset/train/PNEUMONIA/person1000_virus_16...</td>\n",
       "      <td>1072</td>\n",
       "      <td>768</td>\n",
       "      <td>train</td>\n",
       "      <td>PNEUMONIA</td>\n",
       "    </tr>\n",
       "    <tr>\n",
       "      <td>2</td>\n",
       "      <td>../dataset/train/PNEUMONIA/person1001_bacteria...</td>\n",
       "      <td>1244</td>\n",
       "      <td>863</td>\n",
       "      <td>train</td>\n",
       "      <td>PNEUMONIA</td>\n",
       "    </tr>\n",
       "    <tr>\n",
       "      <td>3</td>\n",
       "      <td>../dataset/train/PNEUMONIA/person1002_bacteria...</td>\n",
       "      <td>1242</td>\n",
       "      <td>940</td>\n",
       "      <td>train</td>\n",
       "      <td>PNEUMONIA</td>\n",
       "    </tr>\n",
       "    <tr>\n",
       "      <td>4</td>\n",
       "      <td>../dataset/train/PNEUMONIA/person1003_bacteria...</td>\n",
       "      <td>1488</td>\n",
       "      <td>1280</td>\n",
       "      <td>train</td>\n",
       "      <td>PNEUMONIA</td>\n",
       "    </tr>\n",
       "  </tbody>\n",
       "</table>\n",
       "</div>"
      ],
      "text/plain": [
       "                                            filename  width  height  stage  \\\n",
       "0  ../dataset/train/PNEUMONIA/person1000_bacteria...   1152     760  train   \n",
       "1  ../dataset/train/PNEUMONIA/person1000_virus_16...   1072     768  train   \n",
       "2  ../dataset/train/PNEUMONIA/person1001_bacteria...   1244     863  train   \n",
       "3  ../dataset/train/PNEUMONIA/person1002_bacteria...   1242     940  train   \n",
       "4  ../dataset/train/PNEUMONIA/person1003_bacteria...   1488    1280  train   \n",
       "\n",
       "       class  \n",
       "0  PNEUMONIA  \n",
       "1  PNEUMONIA  \n",
       "2  PNEUMONIA  \n",
       "3  PNEUMONIA  \n",
       "4  PNEUMONIA  "
      ]
     },
     "execution_count": 7,
     "metadata": {},
     "output_type": "execute_result"
    }
   ],
   "source": [
    "def gather_files_into_dataframe(path):\n",
    "  \n",
    "    frames = []\n",
    "\n",
    "    for stage in (STAGE_TRAIN, STAGE_VAL, STAGE_TEST):\n",
    "\n",
    "        for target in ('PNEUMONIA', 'NORMAL'):\n",
    "\n",
    "            # Gather and sort file names\n",
    "            filenames = pd.Series(glob.glob(os.path.join(\n",
    "              path, '', stage, target, '*.jpeg')))\n",
    "            filenames.sort_values(inplace=True)\n",
    "\n",
    "            # Gather image dimensions\n",
    "            widths, heights = zip(*[Image.open(filename).size \n",
    "                                    for filename in filenames])\n",
    "\n",
    "            frames.append(pd.DataFrame({'filename': filenames,\n",
    "                                      'width': widths,\n",
    "                                      'height': heights,\n",
    "                                      'stage': stage,\n",
    "                                      'class': target}))\n",
    "\n",
    "    return pd.concat(frames, ignore_index=True)\n",
    "\n",
    "df = gather_files_into_dataframe(DATA_PATH)\n",
    "df.head()"
   ]
  },
  {
   "cell_type": "markdown",
   "metadata": {},
   "source": [
    "All images are initially stored in a panda dataframe from ease of access and customizability. This way the train, test and validate data can be stored in the same object and easily managed."
   ]
  },
  {
   "cell_type": "markdown",
   "metadata": {},
   "source": [
    "# Convolutional Neural Network \n",
    "\n",
    "With the CNN, we can't use the same function to pre-process the dataset\n",
    "to use the model"
   ]
  },
  {
   "cell_type": "code",
   "execution_count": 9,
   "metadata": {},
   "outputs": [
    {
     "ename": "AttributeError",
     "evalue": "module 'fastai.vision' has no attribute 'all'",
     "output_type": "error",
     "traceback": [
      "\u001b[0;31m---------------------------------------------------------------------------\u001b[0m",
      "\u001b[0;31mAttributeError\u001b[0m                            Traceback (most recent call last)",
      "\u001b[0;32m<ipython-input-9-b8d0356e8f20>\u001b[0m in \u001b[0;36m<module>\u001b[0;34m\u001b[0m\n\u001b[0;32m----> 1\u001b[0;31m data = fastai.vision.all.DataBlock(\n\u001b[0m\u001b[1;32m      2\u001b[0m     \u001b[0mblocks\u001b[0m\u001b[0;34m=\u001b[0m\u001b[0;34m(\u001b[0m\u001b[0mImageBlock\u001b[0m\u001b[0;34m,\u001b[0m \u001b[0mCategoryBlock\u001b[0m\u001b[0;34m)\u001b[0m\u001b[0;34m,\u001b[0m\u001b[0;34m\u001b[0m\u001b[0;34m\u001b[0m\u001b[0m\n\u001b[1;32m      3\u001b[0m     \u001b[0mget_items\u001b[0m\u001b[0;34m=\u001b[0m\u001b[0mget_image_files\u001b[0m\u001b[0;34m,\u001b[0m\u001b[0;34m\u001b[0m\u001b[0;34m\u001b[0m\u001b[0m\n\u001b[1;32m      4\u001b[0m     \u001b[0msplitter\u001b[0m\u001b[0;34m=\u001b[0m\u001b[0mRandomSplitter\u001b[0m\u001b[0;34m(\u001b[0m\u001b[0mvalid_pct\u001b[0m\u001b[0;34m=\u001b[0m\u001b[0;36m0.2\u001b[0m\u001b[0;34m,\u001b[0m \u001b[0mseed\u001b[0m\u001b[0;34m=\u001b[0m\u001b[0;36m42\u001b[0m\u001b[0;34m)\u001b[0m\u001b[0;34m,\u001b[0m\u001b[0;34m\u001b[0m\u001b[0;34m\u001b[0m\u001b[0m\n\u001b[1;32m      5\u001b[0m     \u001b[0mget_y\u001b[0m\u001b[0;34m=\u001b[0m\u001b[0mparent_label\u001b[0m\u001b[0;34m,\u001b[0m\u001b[0;34m\u001b[0m\u001b[0;34m\u001b[0m\u001b[0m\n",
      "\u001b[0;31mAttributeError\u001b[0m: module 'fastai.vision' has no attribute 'all'"
     ]
    }
   ],
   "source": [
    "data = fastai.vision.all.DataBlock(\n",
    "    blocks=(ImageBlock, CategoryBlock), \n",
    "    get_items=get_image_files, \n",
    "    splitter=RandomSplitter(valid_pct=0.2, seed=42),\n",
    "    get_y=parent_label,\n",
    "    item_tfms=Resize(128))\n",
    "\n",
    "dls = data.dataloaders(path)\n",
    "print(\"We can see all picture from the dataset\")\n",
    "dls.valid.show_batch(max_n=20, nrows=2)"
   ]
  },
  {
   "cell_type": "markdown",
   "metadata": {},
   "source": [
    "## Testing the model CNN"
   ]
  },
  {
   "cell_type": "code",
   "execution_count": null,
   "metadata": {},
   "outputs": [],
   "source": [
    "learn = cnn_learner(dls, resnet18, metrics=[error_rate,accuracy])\n",
    "learn.fine_tune(EPOCHS)"
   ]
  },
  {
   "cell_type": "markdown",
   "metadata": {},
   "source": [
    "We will save the model to keep it.\n",
    "To have a better understanding of the result we do a confusion matrix to be able to see true positive and false positive"
   ]
  },
  {
   "cell_type": "code",
   "execution_count": null,
   "metadata": {},
   "outputs": [],
   "source": [
    "learn.save('model_1')\n",
    "interp = ClassificationInterpretation.from_learner(learn)\n",
    "interp.plot_confusion_matrix()"
   ]
  },
  {
   "cell_type": "markdown",
   "metadata": {},
   "source": [
    "### Normalize of the view\n",
    "For having an other visual, we do a confusion matrix with percentage"
   ]
  },
  {
   "cell_type": "code",
   "execution_count": null,
   "metadata": {},
   "outputs": [],
   "source": [
    "interp.plot_confusion_matrix(normalize=True, norm_dec=3)"
   ]
  },
  {
   "cell_type": "markdown",
   "metadata": {},
   "source": [
    "Next, we can see the total amount of False Positive\n",
    "### Show in a line the misclassifications"
   ]
  },
  {
   "cell_type": "code",
   "execution_count": null,
   "metadata": {},
   "outputs": [],
   "source": [
    "interp.most_confused(min_val=1)\n"
   ]
  },
  {
   "cell_type": "markdown",
   "metadata": {},
   "source": [
    "### Visual of losses"
   ]
  },
  {
   "cell_type": "code",
   "execution_count": null,
   "metadata": {},
   "outputs": [],
   "source": [
    "interp.plot_top_losses(3, nrows=3)"
   ]
  },
  {
   "cell_type": "markdown",
   "metadata": {},
   "source": [
    "### Graph for the Learning Rate vs Loss\n",
    "\n",
    "With the method of step by step and a learning rate increasing, we can see that the loss is decreasing fast"
   ]
  },
  {
   "cell_type": "code",
   "execution_count": null,
   "metadata": {},
   "outputs": [],
   "source": [
    "lr_min,lr_steep = learn.lr_find()"
   ]
  },
  {
   "cell_type": "markdown",
   "metadata": {},
   "source": [
    "### Improvement of our algorithm CNN\n",
    "\n",
    "To see if we can improve our model, we will try to play a bit with some variable like epoch or learning rate with some iteration.\n",
    "\n",
    "We will use a method call unfreezing that will keep the model to find a learning rate for use the max in a new epoch to see if anything change\n",
    "\n",
    "We trying to modify the step of learning rate"
   ]
  },
  {
   "cell_type": "code",
   "execution_count": null,
   "metadata": {},
   "outputs": [],
   "source": [
    "learn = cnn_learner(dls, resnet18, metrics=[error_rate,accuracy])\n",
    "learn.fine_tune(EPOCHS, base_lr=5e-3)"
   ]
  },
  {
   "cell_type": "markdown",
   "metadata": {},
   "source": [
    "More let's try the unfreeze method with many cycle\n",
    "\n",
    "### Discriminative Learning Rates & Unfreezing model"
   ]
  },
  {
   "cell_type": "code",
   "execution_count": null,
   "metadata": {},
   "outputs": [],
   "source": [
    "learn = cnn_learner(dls, resnet18, metrics=[error_rate,accuracy])\n",
    "learn.fit_one_cycle(EPOCHS, 5e-3)\n",
    "learn.unfreeze()\n",
    "learn.lr_find()\n",
    "learn.fit_one_cycle(EPOCHS, lr_max=slice(5e-3,1e-3))\n",
    "interp = ClassificationInterpretation.from_learner(learn)\n",
    "interp.plot_confusion_matrix()"
   ]
  },
  {
   "cell_type": "markdown",
   "metadata": {},
   "source": [
    "### Result:\n",
    "\n",
    "As we can see, there no big difference with the first test we ran. The unfreeze method doesn't really change many thing, the actual purpose of this is to prevents the weights of a neural network layer from being modified during the backward pass of training. It helps to decrease training time.\n",
    "\n",
    "The very good thing, is that we can stop the model, and then use it with an other dataset to improve the accurency.\n",
    "When you choose to freeze is a balance between freezing early enough to gain computational speed-up without freezing too early with weights that result in inaccurate predictions.\n",
    "\n",
    "The accurency with CNN is very good. And the train loss and valid loss is decreasing pretty fast. Who give a very low amount of true negatives. \n",
    "\n",
    "\n"
   ]
  },
  {
   "cell_type": "markdown",
   "metadata": {},
   "source": [
    "# k-Nearest Neighbour"
   ]
  },
  {
   "cell_type": "code",
   "execution_count": 8,
   "metadata": {},
   "outputs": [],
   "source": [
    "def image_to_feature_vector(image, size=(64, 64)):\n",
    "    \"\"\"\n",
    "    Resize all images to be the same size\n",
    "    \"\"\"\n",
    "    return cv2.resize(image, size).flatten()\n",
    "\n",
    "\n",
    "def extract_color_histogram(image, bins=(40, 40, 40)):\n",
    "    \"\"\"\n",
    "    extract a 3D color histogram from the HSV color space using\n",
    "    the supplied number of `bins` per channel\n",
    "    \"\"\"\n",
    "    hsv = cv2.cvtColor(image, cv2.COLOR_BGR2HSV)\n",
    "    hist = cv2.calcHist([hsv], [0, 1, 2], None, bins,\n",
    "        [0, 256, 0, 256, 0, 256])\n",
    "    cv2.normalize(hist, hist)\n",
    "    # return the flattened histogram as the feature vector\n",
    "    return hist.flatten()\n",
    "\n",
    "def get_images(image_paths):\n",
    "    \"\"\"\n",
    "    take an array of images paths and return the raw images,\n",
    "    histograms and labels for each image, in a numpy array\n",
    "    \"\"\"\n",
    "    rawImages = []\n",
    "    features = []\n",
    "    labels = []\n",
    "\n",
    "    for (i, imagePath) in enumerate(image_paths):\n",
    "        label = imagePath.split(os.path.sep)[-2]\n",
    "        file = imagePath.split(os.path.sep)[-1]\n",
    "        image = cv2.imread(imagePath) #sets image to BGR\n",
    "        images_aug = seq.augment_image(image)\n",
    "        pixels = image_to_feature_vector(images_aug)\n",
    "        hist = extract_color_histogram(images_aug)    \n",
    "        rawImages.append(pixels)\n",
    "        features.append(hist)\n",
    "\n",
    "        labels.append(label)\n",
    "\n",
    "        if i > 0 and i % 500 == 0:\n",
    "            print(\"[INFO] processed {}/{}\".format(i, len(image_paths)))\n",
    "    \n",
    "    return rawImages, features, labels\n",
    "\n",
    "\n",
    "# Data augmentation\n",
    "seq = iaa.Sequential([\n",
    "    iaa.Crop(px=(0, 16)), # crop images from each side by 0 to 16px (randomly chosen)\n",
    "    iaa.Fliplr(0.5), # horizontally flip 50% of the images\n",
    "    iaa.GaussianBlur(sigma=(0, 3.0)) # blur images with a sigma of 0 to 3.0\n",
    "])"
   ]
  },
  {
   "cell_type": "code",
   "execution_count": null,
   "metadata": {},
   "outputs": [],
   "source": [
    "# test and training data\n",
    "df_test = df.loc[df['stage'] == STAGE_TEST]\n",
    "df_train = df.loc[df['stage'] == STAGE_TRAIN]\n",
    "trainRI, trainFeat, trainLabels = get_images(df_train['filename'].to_numpy())\n",
    "testRI, testFeat, testLabels = get_images(df_test['filename'].to_numpy())"
   ]
  },
  {
   "cell_type": "code",
   "execution_count": 45,
   "metadata": {},
   "outputs": [
    {
     "name": "stdout",
     "output_type": "stream",
     "text": [
      "[INFO] evaluating raw pixel accuracy...\n",
      "[INFO] raw pixel accuracy: 72.60%\n",
      "[INFO] evaluating histogram accuracy...\n",
      "[INFO] histogram accuracy: 75.64%\n"
     ]
    }
   ],
   "source": [
    "# train and evaluate a k-NN classifer on the raw pixel intensities\n",
    "print(\"[INFO] evaluating raw pixel accuracy...\")\n",
    "ri_model = KNeighborsClassifier(n_neighbors=8)\n",
    "ri_model.fit(trainRI, trainLabels)\n",
    "ri_acc = ri_model.score(testRI, testLabels)\n",
    "print(\"[INFO] raw pixel accuracy: {:.2f}%\".format(ri_acc * 100))\n",
    "\n",
    "# train and evaluate a k-NN classifer on the histogram\n",
    "# representations\n",
    "print(\"[INFO] evaluating histogram accuracy...\")\n",
    "fea_model = KNeighborsClassifier(n_neighbors=8)\n",
    "fea_model.fit(trainFeat, trainLabels)\n",
    "fea_acc = fea_model.score(testFeat, testLabels)\n",
    "print(\"[INFO] histogram accuracy: {:.2f}%\".format(fea_acc * 100))"
   ]
  },
  {
   "cell_type": "markdown",
   "metadata": {},
   "source": [
    "Two models were created to compare the results between raw images and histograms. Both types were extracted using the OpenCV library and flattedned to 1D arrays. \n",
    "\n",
    "Raw images were all set to the square size of 64x64, and the 3D histograms were created with 40 bins in the HSV colour space, normalized."
   ]
  },
  {
   "cell_type": "code",
   "execution_count": 46,
   "metadata": {},
   "outputs": [
    {
     "name": "stdout",
     "output_type": "stream",
     "text": [
      "           Normal  Pneumonia\n",
      "Normal        131        103\n",
      "Pneumonia      49        341\n",
      "           Normal  Pneumonia\n",
      "Normal         68        166\n",
      "Pneumonia       5        385\n",
      "\n",
      "\n",
      "              precision    recall  f1-score   support\n",
      "\n",
      "      NORMAL       0.73      0.56      0.63       234\n",
      "   PNEUMONIA       0.77      0.87      0.82       390\n",
      "\n",
      "    accuracy                           0.76       624\n",
      "   macro avg       0.75      0.72      0.73       624\n",
      "weighted avg       0.75      0.76      0.75       624\n",
      "\n",
      "\n",
      "\n",
      "              precision    recall  f1-score   support\n",
      "\n",
      "      NORMAL       0.93      0.29      0.44       234\n",
      "   PNEUMONIA       0.70      0.99      0.82       390\n",
      "\n",
      "    accuracy                           0.73       624\n",
      "   macro avg       0.82      0.64      0.63       624\n",
      "weighted avg       0.79      0.73      0.68       624\n",
      "\n"
     ]
    }
   ],
   "source": [
    "from sklearn import metrics\n",
    "import pandas as pd\n",
    "\n",
    "cm = metrics.confusion_matrix(testLabels, fea_model.predict(testFeat))\n",
    "data = {\n",
    "    \"Normal\": [cm[0][0], cm[1][0]],\n",
    "    \"Pneumonia\": [cm[0][1], cm[1][1]]\n",
    "}\n",
    "df_feat = pd.DataFrame(data, index=[\"Normal\", \"Pneumonia\"])\n",
    "print(df_feat)\n",
    "cm = metrics.confusion_matrix(testLabels, ri_model.predict(testRI))\n",
    "data = {\n",
    "    \"Normal\": [cm[0][0], cm[1][0]],\n",
    "    \"Pneumonia\": [cm[0][1], cm[1][1]]\n",
    "}\n",
    "df_ri = pd.DataFrame(data, index=[\"Normal\", \"Pneumonia\"])\n",
    "print(df_ri)\n",
    "print(\"\\n\")\n",
    "print(metrics.classification_report(testLabels, fea_model.predict(testFeat)))\n",
    "print(\"\\n\")\n",
    "print(metrics.classification_report(testLabels, ri_model.predict(testRI)))"
   ]
  },
  {
   "cell_type": "markdown",
   "metadata": {},
   "source": [
    "After accuracies were calculated, the confusion matrices, precision, recall, f1-score and support were calculated and compared to determine the most effective image data type."
   ]
  },
  {
   "cell_type": "markdown",
   "metadata": {},
   "source": [
    "# Support Vector Machine"
   ]
  },
  {
   "cell_type": "code",
   "execution_count": 24,
   "metadata": {},
   "outputs": [
    {
     "name": "stdout",
     "output_type": "stream",
     "text": [
      "[INFO] processed 500/5856\n",
      "[INFO] processed 1000/5856\n",
      "[INFO] processed 1500/5856\n",
      "[INFO] processed 2000/5856\n",
      "[INFO] processed 2500/5856\n",
      "[INFO] processed 3000/5856\n",
      "[INFO] processed 3500/5856\n",
      "[INFO] processed 4000/5856\n",
      "[INFO] processed 4500/5856\n",
      "[INFO] processed 5000/5856\n",
      "[INFO] processed 5500/5856\n",
      "X shape: (5856, 50, 50, 3)\n"
     ]
    }
   ],
   "source": [
    "def get_images_svm(image_paths):\n",
    "    \"\"\"\n",
    "    take an array of images paths and return the raw images,\n",
    "    histograms and labels for each image, in a numpy array\n",
    "    \"\"\"\n",
    "    train_img = []\n",
    "\n",
    "    for (i, imagePath) in enumerate(image_paths):\n",
    "        img = cv2.imread(imagePath) #sets image to BGR\n",
    "        img = seq.augment_image(img)\n",
    "        img = np.squeeze(img)\n",
    "        img_pred = cv2.resize(img, (50, 50), interpolation=cv2.INTER_AREA)\n",
    "        img_pred = img_pred[:, :]\n",
    "        img_pred = image.img_to_array(img_pred)\n",
    "        img_pred = img_pred / 255\n",
    "\n",
    "        train_img.append(img_pred)\n",
    "\n",
    "        if i > 0 and i % 500 == 0:\n",
    "            print(\"[INFO] processed {}/{}\".format(i, len(image_paths)))\n",
    "    \n",
    "    X = np.array(train_img)\n",
    "    return X\n",
    "\n",
    "\n",
    "# Data augmentation\n",
    "seq = iaa.Sequential([\n",
    "    iaa.Crop(px=(0, 16)), # crop images from each side by 0 to 16px (randomly chosen)\n",
    "    iaa.Fliplr(0.5), # horizontally flip 50% of the images\n",
    "    iaa.GaussianBlur(sigma=(0, 3.0)) # blur images with a sigma of 0 to 3.0\n",
    "])\n",
    "\n",
    "labels = []\n",
    "labelCounts = [0,0]\n",
    "\n",
    "\n",
    "X0 = get_images_svm(df['filename'].to_numpy())\n",
    "X = np.zeros((5856, 50, 50, 3))\n",
    "X[:, :, :, 0] = X0[:, :, :, 0]\n",
    "X[:, :, :, 1] = X0[:, :, :, 0]\n",
    "X[:, :, :, 2] = X0[:, :, :, 0]\n",
    "\n",
    "\n",
    "\n",
    "print(\"X shape: \"+str(X.shape))\n",
    "\n",
    "y0 = np.zeros(5216)\n",
    "y1 = np.ones(640)\n",
    "# concatenate y0 and y1 to form y\n",
    "y = []\n",
    "y = np.concatenate((y0, y1), axis=0)"
   ]
  },
  {
   "cell_type": "markdown",
   "metadata": {},
   "source": [
    "For the SVM, images were loaded in a slightly different way to take into account the colour channels."
   ]
  },
  {
   "cell_type": "code",
   "execution_count": 25,
   "metadata": {},
   "outputs": [
    {
     "name": "stdout",
     "output_type": "stream",
     "text": [
      "X_train: (4684, 50, 50, 3)\n",
      "X_test: (586, 50, 50, 3)\n",
      "X_val: (586, 50, 50, 3)\n",
      "y_train: (4684,)\n",
      "y_test: (586,)\n",
      "y_val: (586,)\n"
     ]
    }
   ],
   "source": [
    "X_train, X_test, y_train, y_test = train_test_split(X, y, random_state=42, test_size=0.20)\n",
    "X_val, X_test, y_val, y_test = train_test_split(X_test, y_test, random_state=42, test_size=0.5)\n",
    "print(\"X_train: \" + str(X_train.shape))\n",
    "print(\"X_test: \" + str(X_test.shape))\n",
    "print(\"X_val: \" + str(X_val.shape))\n",
    "print(\"y_train: \" + str(y_train.shape))\n",
    "print(\"y_test: \" + str(y_test.shape))\n",
    "print(\"y_val: \" + str(y_val.shape))"
   ]
  },
  {
   "cell_type": "code",
   "execution_count": 26,
   "metadata": {},
   "outputs": [
    {
     "name": "stdout",
     "output_type": "stream",
     "text": [
      "(4684, 7500) (586, 7500) (586, 7500)\n",
      "(4684,) (586,) (586,)\n"
     ]
    }
   ],
   "source": [
    "# take only the length of the 1st dimension for each\n",
    "num_training = X_train.shape[0]\n",
    "mask = list(range(num_training))\n",
    "X_train = X_train[mask]\n",
    "y_train = y_train[mask]\n",
    "num_test = X_test.shape[0]\n",
    "mask = list(range(num_test))\n",
    "X_test = X_test[mask]\n",
    "y_test = y_test[mask]\n",
    "num_val = X_val.shape[0]\n",
    "mask = list(range(num_val))\n",
    "X_val = X_val[mask]\n",
    "y_val = y_val[mask]\n",
    "\n",
    "# Reshape the image data into rows\n",
    "X_train = np.reshape(X_train, (X_train.shape[0], -1))\n",
    "X_test = np.reshape(X_test, (X_test.shape[0], -1))\n",
    "X_val = np.reshape(X_val, (X_val.shape[0], -1))\n",
    "print(X_train.shape, X_test.shape, X_val.shape)\n",
    "print(y_train.shape, y_test.shape, y_val.shape)"
   ]
  },
  {
   "cell_type": "code",
   "execution_count": 27,
   "metadata": {},
   "outputs": [
    {
     "name": "stdout",
     "output_type": "stream",
     "text": [
      "(4684, 7501) (586, 7501) (586, 7501)\n",
      "Data ready\n"
     ]
    }
   ],
   "source": [
    "# Getting data to zero mean, i.e centred around zero.\n",
    "mean_image = np.mean(X_train, axis=0)\n",
    "X_train -= mean_image\n",
    "X_test -= mean_image\n",
    "X_val -= mean_image\n",
    "# append the bias dimension of ones (i.e. bias trick) so that our SVM\n",
    "# only has to worry about optimizing a single weight matrix W.\n",
    "X_train = np.hstack([X_train, np.ones((X_train.shape[0], 1))])\n",
    "X_val = np.hstack([X_val, np.ones((X_val.shape[0], 1))])\n",
    "X_test = np.hstack([X_test, np.ones((X_test.shape[0], 1))])\n",
    "print(X_train.shape, X_test.shape, X_val.shape)\n",
    "print(\"Data ready\")"
   ]
  },
  {
   "cell_type": "code",
   "execution_count": 28,
   "metadata": {},
   "outputs": [],
   "source": [
    "from __future__ import print_function\n",
    "from builtins import object\n",
    "# for svm_loss_vectorized\n",
    "\n",
    "def svm_loss_vectorized(W, X, y, reg):\n",
    "    loss = 0.0\n",
    "    dW = np.zeros(W.shape)  # initialize the gradient as zero\n",
    "    num_classes = W.shape[1]\n",
    "    num_train = X.shape[0]\n",
    "    scores = X.dot(W)\n",
    "    y = [int(x) for x in y]\n",
    "    correct_class_scores = scores[np.arange(num_train), y].reshape(num_train, 1)\n",
    "    margin = np.maximum(0, scores - correct_class_scores + 1)\n",
    "    margin[np.arange(num_train), y] = 0  # do not consider correct class in loss\n",
    "    loss = margin.sum() / num_train\n",
    "    # Add regularization to the loss.\n",
    "    loss += reg * np.sum(W * W)\n",
    "\n",
    "    margin[margin > 0] = 1\n",
    "    valid_margin = margin.sum(axis=1)\n",
    "    margin[np.arange(num_train), y] -= valid_margin\n",
    "    dW = (X.T).dot(margin) / num_train\n",
    "    # dW /= num_train\n",
    "    # Regularization gradient\n",
    "    dW = dW + reg * 2 * W\n",
    "    return loss, dW\n",
    "\n",
    "\n",
    "class LinearClassifier(object):\n",
    "\n",
    "    def __init__(self):\n",
    "        self.W = None\n",
    "\n",
    "    def train(self, X, y, learning_rate=1e-3, reg=1e-5, num_iters=100,\n",
    "              batch_size=200, verbose=False):\n",
    "\n",
    "        num_train, dim = X.shape\n",
    "        num_classes = np.max(y) + 1 # assume y takes values 0...K-1 where K is number of classes\n",
    "        if self.W is None:\n",
    "            self.W = 0.001 * np.random.randn(dim, int(num_classes))\n",
    "        # Run stochastic gradient descent to optimize W\n",
    "        loss_history = []\n",
    "        for it in range(num_iters):\n",
    "            X_batch = None\n",
    "            y_batch = None\n",
    "\n",
    "            batch_indices = np.random.choice(num_train, batch_size, replace=False)\n",
    "            X_batch = X[batch_indices]\n",
    "            y_batch=y[batch_indices]\n",
    "\n",
    "            # evaluate loss and gradient\n",
    "            loss, grad = self.loss(X_batch, y_batch, reg)\n",
    "            loss_history.append(loss)\n",
    "\n",
    "            # Update the weights using the gradient and the learning rate.          #\n",
    "\n",
    "            self.W -= learning_rate*grad\n",
    "\n",
    "            if verbose and it % 100 == 0:\n",
    "                print('iteration %d / %d: loss %f' % (it, num_iters, loss))\n",
    "\n",
    "        return loss_history\n",
    "\n",
    "    def predict(self, X):\n",
    "        \"\"\"\n",
    "        Use the trained weights of this linear classifier to predict labels for\n",
    "        data points.\n",
    "        \"\"\"\n",
    "        y_pred = np.zeros(X.shape[0])\n",
    "        scores = X.dot(self.W)\n",
    "        y_pred = scores.argmax(axis=1)\n",
    "        return y_pred\n",
    "\n",
    "\n",
    "class LinearSVM(LinearClassifier):\n",
    "    \"\"\" A subclass that uses the Multiclass SVM loss function \"\"\"\n",
    "\n",
    "    def loss(self, X_batch, y_batch, reg):\n",
    "        return svm_loss_vectorized(self.W, X_batch, y_batch, reg)"
   ]
  },
  {
   "cell_type": "code",
   "execution_count": 29,
   "metadata": {},
   "outputs": [
    {
     "name": "stdout",
     "output_type": "stream",
     "text": [
      "training accuracy: 0.701110\n",
      "validation accuracy: 0.682594\n"
     ]
    }
   ],
   "source": [
    "svmd = LinearSVM()\n",
    "loss_hist = svmd.train(X_train, y_train, learning_rate=1e-7, reg=2.5e4, num_iters=1500, verbose=False)\n",
    "\n",
    "y_train_pred = svmd.predict(X_train)\n",
    "print('training accuracy: %f' % (np.mean(y_train == y_train_pred),))\n",
    "y_val_pred = svmd.predict(X_val)\n",
    "print('validation accuracy: %f' % (np.mean(y_val == y_val_pred),))"
   ]
  },
  {
   "cell_type": "code",
   "execution_count": 30,
   "metadata": {},
   "outputs": [
    {
     "name": "stdout",
     "output_type": "stream",
     "text": [
      "(586,)\n"
     ]
    },
    {
     "data": {
      "text/plain": [
       "<matplotlib.legend.Legend at 0x7fa2f2b74290>"
      ]
     },
     "execution_count": 30,
     "metadata": {},
     "output_type": "execute_result"
    },
    {
     "data": {
      "image/png": "[encoded data removed]",
      "text/plain": [
       "<Figure size 432x288 with 1 Axes>"
      ]
     },
     "metadata": {
      "needs_background": "light"
     },
     "output_type": "display_data"
    }
   ],
   "source": [
    "from sklearn.metrics import roc_curve\n",
    "from sklearn.metrics import auc\n",
    "import matplotlib.pyplot as plt\n",
    "\n",
    "y_pred_keras = svmd.predict(X_test).ravel()\n",
    "print(y_pred_keras.shape)\n",
    "fpr_keras, tpr_keras, thresholds_keras = roc_curve(y_test, y_pred_keras)\n",
    "\n",
    "auc_keras = auc(fpr_keras, tpr_keras)\n",
    "\n",
    "plt.figure(1)\n",
    "plt.plot([0, 1], [0, 1], 'k--')\n",
    "plt.plot(fpr_keras, tpr_keras, label='Keras (area = {:.3f})'.format(auc_keras))\n",
    "# plt.plot(fpr_rf, tpr_rf, label='RF (area = {:.3f})'.format(auc_rf))\n",
    "plt.xlabel('False positive rate')\n",
    "plt.ylabel('True positive rate')\n",
    "plt.title('ROC curve')\n",
    "plt.legend(loc='best')"
   ]
  },
  {
   "cell_type": "code",
   "execution_count": null,
   "metadata": {},
   "outputs": [],
   "source": []
  },
  {
   "cell_type": "code",
   "execution_count": null,
   "metadata": {},
   "outputs": [],
   "source": []
  }
 ],
 "metadata": {
  "kernelspec": {
   "display_name": "Python 3",
   "language": "python",
   "name": "python3"
  },
  "language_info": {
   "codemirror_mode": {
    "name": "ipython",
    "version": 3
   },
   "file_extension": ".py",
   "mimetype": "text/x-python",
   "name": "python",
   "nbconvert_exporter": "python",
   "pygments_lexer": "ipython3",
   "version": "3.7.4"
  }
 },
 "nbformat": 4,
 "nbformat_minor": 2
}
