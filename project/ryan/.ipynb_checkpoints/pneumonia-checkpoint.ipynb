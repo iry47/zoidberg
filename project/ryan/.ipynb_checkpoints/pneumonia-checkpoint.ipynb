{
 "cells": [
  {
   "cell_type": "markdown",
   "metadata": {},
   "source": [
    "# k Nearest Neighbours"
   ]
  },
  {
   "cell_type": "markdown",
   "metadata": {},
   "source": [
    "In this notebook, we utilise the kNN classifier to determine whether the provided CT scans of lungs are infected with pneumonia. "
   ]
  },
  {
   "cell_type": "code",
   "execution_count": 3,
   "metadata": {},
   "outputs": [
    {
     "name": "stdout",
     "output_type": "stream",
     "text": [
      "[INFO] processed 500/5216\n",
      "[INFO] processed 1000/5216\n",
      "[INFO] processed 1500/5216\n",
      "[INFO] processed 2000/5216\n",
      "[INFO] processed 2500/5216\n",
      "[INFO] processed 3000/5216\n",
      "[INFO] processed 3500/5216\n",
      "[INFO] processed 4000/5216\n",
      "[INFO] processed 4500/5216\n",
      "[INFO] processed 5000/5216\n",
      "[INFO] pixels matrix: 62.59MB\n",
      "[INFO] features matrix: 10.43MB\n"
     ]
    }
   ],
   "source": [
    "from sklearn.neighbors import KNeighborsClassifier\n",
    "from sklearn.model_selection import train_test_split, cross_val_score\n",
    "import argparse\n",
    "import pathlib\n",
    "import os\n",
    "import jwt\n",
    "import cv2\n",
    "import numpy as np\n",
    "import imutils\n",
    "import matplotlib.pyplot as plt\n",
    "from imgaug import augmenters as iaa\n",
    "\n",
    "\n",
    "def image_to_feature_vector(image, size=(64, 64)):\n",
    "    \"\"\"\n",
    "    Resize all images to be the same size\n",
    "    \"\"\"\n",
    "    return cv2.resize(image, size).flatten()\n",
    "\n",
    "\n",
    "def get_image_paths(rootPath):\n",
    "    \"\"\"\n",
    "    Get all image paths from root\n",
    "    \"\"\"\n",
    "    imagePaths = []\n",
    "    for file in os.listdir(rootPath):\n",
    "        if(file[0] == '.'): continue\n",
    "        for f in os.listdir(rootPath+file):\n",
    "            if(f[0] == '.'): continue\n",
    "            imagePaths.append(os.path.abspath(rootPath+'/'+file+'/'+f))\n",
    "\n",
    "    return imagePaths\n",
    "\n",
    "def extract_color_histogram(image, bins=(8, 8, 8)):\n",
    "    \"\"\"\n",
    "    extract a 3D color histogram from the HSV color space using\n",
    "    the supplied number of `bins` per channel\n",
    "    \"\"\"\n",
    "    hsv = cv2.cvtColor(image, cv2.COLOR_BGR2HSV)\n",
    "    hist = cv2.calcHist([hsv], [0, 1, 2], None, bins,\n",
    "        [0, 256, 0, 256, 0, 256])\n",
    "    cv2.normalize(hist, hist)\n",
    "    # return the flattened histogram as the feature vector\n",
    "    return hist.flatten()\n",
    "\n",
    "\n",
    "\"\"\"\n",
    "The following code will get all images, their corresponding label, and save some as raw images, and others \n",
    "as histograms. Both are divided into individual training and testing data\n",
    "\"\"\"\n",
    "seq = iaa.Sequential([\n",
    "    iaa.Crop(px=(0, 16)), # crop images from each side by 0 to 16px (randomly chosen)\n",
    "    iaa.Fliplr(0.5), # horizontally flip 50% of the images\n",
    "    iaa.GaussianBlur(sigma=(0, 3.0)) # blur images with a sigma of 0 to 3.0\n",
    "])\n",
    "\n",
    "all_images = get_image_paths('../dataset/train/')\n",
    "\n",
    "\n",
    "rawImages = []\n",
    "features = []\n",
    "labels = []\n",
    "files = []\n",
    "\n",
    "for (i, imagePath) in enumerate(all_images):\n",
    "    label = imagePath.split(os.path.sep)[-2]\n",
    "    file = imagePath.split(os.path.sep)[-1]\n",
    "    image = cv2.imread(imagePath) #sets image to BGR\n",
    "    images_aug = seq.augment_image(image)\n",
    "    pixels = image_to_feature_vector(images_aug)\n",
    "    hist = extract_color_histogram(images_aug)    \n",
    "    rawImages.append(pixels)\n",
    "    features.append(hist)\n",
    "\n",
    "    labels.append(label)\n",
    "    files.append(file)\n",
    "\n",
    "    \n",
    "    if i > 0 and i % 500 == 0:\n",
    "        print(\"[INFO] processed {}/{}\".format(i, len(all_images)))\n",
    "\n",
    "\n",
    "rawImages = np.array(rawImages)\n",
    "features = np.array(features)\n",
    "labels = np.array(labels)\n",
    "print(\"[INFO] pixels matrix: {:.2f}MB\".format(\n",
    "\trawImages.nbytes / (1024 * 1000.0)))\n",
    "print(\"[INFO] features matrix: {:.2f}MB\".format(\n",
    "\tfeatures.nbytes / (1024 * 1000.0)))\n",
    "\n",
    "(trainRI, testRI, trainRL, testRL) = train_test_split(\n",
    "\trawImages, labels, test_size=0.25, random_state=42)\n",
    "(trainFeat, testFeat, trainLabels, testLabels) = train_test_split(\n",
    "\tfeatures, labels, test_size=0.25, random_state=42)\n",
    "\n"
   ]
  },
  {
   "cell_type": "code",
   "execution_count": 4,
   "metadata": {},
   "outputs": [
    {
     "data": {
      "text/plain": [
       "Text(0, 0.5, 'Mean accuracy scores')"
      ]
     },
     "execution_count": 4,
     "metadata": {},
     "output_type": "execute_result"
    },
    {
     "data": {
      "image/png": "[encoded data removed]",
      "text/plain": [
       "<Figure size 432x288 with 1 Axes>"
      ]
     },
     "metadata": {
      "needs_background": "light"
     },
     "output_type": "display_data"
    }
   ],
   "source": [
    "\"\"\"\n",
    "The following fits the kNN classifier and runs a cross_val_score to \n",
    "determine the accuracy for k values up to 20.\n",
    "\n",
    "The results were then applied to improve our algorithm\n",
    "\"\"\"\n",
    "\n",
    "k_scores = []\n",
    "k_range = range(1,20)\n",
    "for k in k_range:\n",
    "    knn = KNeighborsClassifier(n_neighbors=k)\n",
    "    knn.fit(trainFeat, trainLabels)\n",
    "    scores = cross_val_score(knn, testFeat, testLabels, cv=10, scoring='accuracy')\n",
    "    k_scores.append(scores.mean())\n",
    "    \n",
    "%matplotlib inline\n",
    "plt.plot(k_range, k_scores)\n",
    "plt.xlabel('K value for KNN algorithm')\n",
    "plt.ylabel('Mean accuracy scores')\n"
   ]
  },
  {
   "cell_type": "code",
   "execution_count": 5,
   "metadata": {},
   "outputs": [
    {
     "name": "stdout",
     "output_type": "stream",
     "text": [
      "[INFO] evaluating raw pixel accuracy...\n",
      "[INFO] raw pixel accuracy: 92.18%\n",
      "[INFO] evaluating histogram accuracy...\n",
      "[INFO] histogram accuracy: 84.13%\n"
     ]
    }
   ],
   "source": [
    "\"\"\"\n",
    "Create two models to compare the accuracies between\n",
    "using raw images and histograms\n",
    "\"\"\"\n",
    "\n",
    "# train and evaluate a k-NN classifer on the raw pixel intensities\n",
    "print(\"[INFO] evaluating raw pixel accuracy...\")\n",
    "ri_model = KNeighborsClassifier(n_neighbors=8)\n",
    "ri_model.fit(trainRI, trainRL)\n",
    "ri_acc = ri_model.score(testRI, testRL)\n",
    "print(\"[INFO] raw pixel accuracy: {:.2f}%\".format(ri_acc * 100))\n",
    "\n",
    "# train and evaluate a k-NN classifer on the histogram\n",
    "# representations\n",
    "print(\"[INFO] evaluating histogram accuracy...\")\n",
    "fea_model = KNeighborsClassifier(n_neighbors=8)\n",
    "fea_model.fit(trainFeat, trainLabels)\n",
    "fea_acc = fea_model.score(testFeat, testLabels)\n",
    "print(\"[INFO] histogram accuracy: {:.2f}%\".format(fea_acc * 100))"
   ]
  },
  {
   "cell_type": "markdown",
   "metadata": {},
   "source": [
    "### Confusion Matrix\n",
    "This matrix shows the quantity of true positives/negatives and false positives/negatives for all classes provided to the classifier"
   ]
  },
  {
   "cell_type": "code",
   "execution_count": 12,
   "metadata": {},
   "outputs": [
    {
     "name": "stdout",
     "output_type": "stream",
     "text": [
      "           Normal  Pneumonia\n",
      "Normal        271         86\n",
      "Pneumonia      16        931\n"
     ]
    }
   ],
   "source": [
    "cm = metrics.confusion_matrix(testRL, ri_model.predict(testRI))\n",
    "data = {\n",
    "    \"Normal\": [cm[0][0], cm[1][0]],\n",
    "    \"Pneumonia\": [cm[0][1], cm[1][1]]\n",
    "}\n",
    "df = pd.DataFrame(data, index=[\"Normal\", \"Pneumonia\"])\n",
    "print(df)"
   ]
  },
  {
   "cell_type": "code",
   "execution_count": 11,
   "metadata": {},
   "outputs": [
    {
     "name": "stdout",
     "output_type": "stream",
     "text": [
      "           Normal  Pneumonia\n",
      "Normal        262         95\n",
      "Pneumonia     112        835\n",
      "\n",
      "\n",
      "              precision    recall  f1-score   support\n",
      "\n",
      "      NORMAL       0.70      0.73      0.72       357\n",
      "   PNEUMONIA       0.90      0.88      0.89       947\n",
      "\n",
      "    accuracy                           0.84      1304\n",
      "   macro avg       0.80      0.81      0.80      1304\n",
      "weighted avg       0.84      0.84      0.84      1304\n",
      "\n",
      "\n",
      "\n",
      "              precision    recall  f1-score   support\n",
      "\n",
      "      NORMAL       0.94      0.76      0.84       357\n",
      "   PNEUMONIA       0.92      0.98      0.95       947\n",
      "\n",
      "    accuracy                           0.92      1304\n",
      "   macro avg       0.93      0.87      0.89      1304\n",
      "weighted avg       0.92      0.92      0.92      1304\n",
      "\n"
     ]
    }
   ],
   "source": [
    "from sklearn import metrics\n",
    "import pandas as pd\n",
    "\n",
    "cm = metrics.confusion_matrix(testLabels, fea_model.predict(testFeat))\n",
    "data = {\n",
    "    \"Normal\": [cm[0][0], cm[1][0]],\n",
    "    \"Pneumonia\": [cm[0][1], cm[1][1]]\n",
    "}\n",
    "df = pd.DataFrame(data, index=[\"Normal\", \"Pneumonia\"])\n",
    "print(df)\n",
    "print(\"\\n\")\n",
    "print(metrics.classification_report(testLabels, fea_model.predict(testFeat)))\n",
    "print(\"\\n\")\n",
    "print(metrics.classification_report(testRL, ri_model.predict(testRI)))"
   ]
  },
  {
   "cell_type": "code",
   "execution_count": 10,
   "metadata": {},
   "outputs": [
    {
     "name": "stderr",
     "output_type": "stream",
     "text": [
      "/Users/ryanheadley/opt/anaconda3/lib/python3.7/site-packages/numpy/core/numeric.py:2339: FutureWarning: elementwise comparison failed; returning scalar instead, but in the future will perform elementwise comparison\n",
      "  return bool(asarray(a1 == a2).all())\n"
     ]
    },
    {
     "ename": "ValueError",
     "evalue": "Data is not binary and pos_label is not specified",
     "output_type": "error",
     "traceback": [
      "\u001b[0;31m---------------------------------------------------------------------------\u001b[0m",
      "\u001b[0;31mValueError\u001b[0m                                Traceback (most recent call last)",
      "\u001b[0;32m<ipython-input-10-aca2a4347498>\u001b[0m in \u001b[0;36m<module>\u001b[0;34m\u001b[0m\n\u001b[1;32m      4\u001b[0m \u001b[0;34m\u001b[0m\u001b[0m\n\u001b[1;32m      5\u001b[0m \u001b[0my_pred_keras\u001b[0m \u001b[0;34m=\u001b[0m \u001b[0mfea_model\u001b[0m\u001b[0;34m.\u001b[0m\u001b[0mpredict\u001b[0m\u001b[0;34m(\u001b[0m\u001b[0mtestFeat\u001b[0m\u001b[0;34m)\u001b[0m\u001b[0;34m.\u001b[0m\u001b[0mravel\u001b[0m\u001b[0;34m(\u001b[0m\u001b[0;34m)\u001b[0m\u001b[0;34m\u001b[0m\u001b[0;34m\u001b[0m\u001b[0m\n\u001b[0;32m----> 6\u001b[0;31m \u001b[0mfpr_keras\u001b[0m\u001b[0;34m,\u001b[0m \u001b[0mtpr_keras\u001b[0m\u001b[0;34m,\u001b[0m \u001b[0mthresholds_keras\u001b[0m \u001b[0;34m=\u001b[0m \u001b[0mroc_curve\u001b[0m\u001b[0;34m(\u001b[0m\u001b[0mtestLabels\u001b[0m\u001b[0;34m,\u001b[0m \u001b[0mtrainLabels\u001b[0m\u001b[0;34m[\u001b[0m\u001b[0;34m:\u001b[0m\u001b[0;36m1304\u001b[0m\u001b[0;34m]\u001b[0m\u001b[0;34m)\u001b[0m\u001b[0;34m\u001b[0m\u001b[0;34m\u001b[0m\u001b[0m\n\u001b[0m\u001b[1;32m      7\u001b[0m \u001b[0;34m\u001b[0m\u001b[0m\n\u001b[1;32m      8\u001b[0m \u001b[0mauc_keras\u001b[0m \u001b[0;34m=\u001b[0m \u001b[0mauc\u001b[0m\u001b[0;34m(\u001b[0m\u001b[0mfpr_keras\u001b[0m\u001b[0;34m,\u001b[0m \u001b[0mtpr_keras\u001b[0m\u001b[0;34m)\u001b[0m\u001b[0;34m\u001b[0m\u001b[0;34m\u001b[0m\u001b[0m\n",
      "\u001b[0;32m~/opt/anaconda3/lib/python3.7/site-packages/sklearn/metrics/ranking.py\u001b[0m in \u001b[0;36mroc_curve\u001b[0;34m(y_true, y_score, pos_label, sample_weight, drop_intermediate)\u001b[0m\n\u001b[1;32m    620\u001b[0m     \"\"\"\n\u001b[1;32m    621\u001b[0m     fps, tps, thresholds = _binary_clf_curve(\n\u001b[0;32m--> 622\u001b[0;31m         y_true, y_score, pos_label=pos_label, sample_weight=sample_weight)\n\u001b[0m\u001b[1;32m    623\u001b[0m \u001b[0;34m\u001b[0m\u001b[0m\n\u001b[1;32m    624\u001b[0m     \u001b[0;31m# Attempt to drop thresholds corresponding to points in between and\u001b[0m\u001b[0;34m\u001b[0m\u001b[0;34m\u001b[0m\u001b[0;34m\u001b[0m\u001b[0m\n",
      "\u001b[0;32m~/opt/anaconda3/lib/python3.7/site-packages/sklearn/metrics/ranking.py\u001b[0m in \u001b[0;36m_binary_clf_curve\u001b[0;34m(y_true, y_score, pos_label, sample_weight)\u001b[0m\n\u001b[1;32m    413\u001b[0m              \u001b[0mnp\u001b[0m\u001b[0;34m.\u001b[0m\u001b[0marray_equal\u001b[0m\u001b[0;34m(\u001b[0m\u001b[0mclasses\u001b[0m\u001b[0;34m,\u001b[0m \u001b[0;34m[\u001b[0m\u001b[0;34m-\u001b[0m\u001b[0;36m1\u001b[0m\u001b[0;34m]\u001b[0m\u001b[0;34m)\u001b[0m \u001b[0;32mor\u001b[0m\u001b[0;34m\u001b[0m\u001b[0;34m\u001b[0m\u001b[0m\n\u001b[1;32m    414\u001b[0m              np.array_equal(classes, [1]))):\n\u001b[0;32m--> 415\u001b[0;31m         \u001b[0;32mraise\u001b[0m \u001b[0mValueError\u001b[0m\u001b[0;34m(\u001b[0m\u001b[0;34m\"Data is not binary and pos_label is not specified\"\u001b[0m\u001b[0;34m)\u001b[0m\u001b[0;34m\u001b[0m\u001b[0;34m\u001b[0m\u001b[0m\n\u001b[0m\u001b[1;32m    416\u001b[0m     \u001b[0;32melif\u001b[0m \u001b[0mpos_label\u001b[0m \u001b[0;32mis\u001b[0m \u001b[0;32mNone\u001b[0m\u001b[0;34m:\u001b[0m\u001b[0;34m\u001b[0m\u001b[0;34m\u001b[0m\u001b[0m\n\u001b[1;32m    417\u001b[0m         \u001b[0mpos_label\u001b[0m \u001b[0;34m=\u001b[0m \u001b[0;36m1.\u001b[0m\u001b[0;34m\u001b[0m\u001b[0;34m\u001b[0m\u001b[0m\n",
      "\u001b[0;31mValueError\u001b[0m: Data is not binary and pos_label is not specified"
     ]
    }
   ],
   "source": [
    "from sklearn.metrics import roc_curve\n",
    "from sklearn.metrics import auc\n",
    "import matplotlib.pyplot as plt\n",
    "\n",
    "y_pred_keras = fea_model.predict(testFeat).ravel()\n",
    "fpr_keras, tpr_keras, thresholds_keras = roc_curve(testLabels, trainLabels[:1304])\n",
    "\n",
    "auc_keras = auc(fpr_keras, tpr_keras)\n",
    "\n",
    "plt.figure(1)\n",
    "plt.plot([0, 1], [0, 1], 'k--')\n",
    "plt.plot(fpr_keras, tpr_keras, label='Keras (area = {:.3f})'.format(auc_keras))\n",
    "plt.xlabel('False positive rate')\n",
    "plt.ylabel('True positive rate')\n",
    "plt.title('ROC curve')\n",
    "plt.legend(loc='best')"
   ]
  },
  {
   "cell_type": "markdown",
   "metadata": {},
   "source": [
    "### Results\n",
    "\n",
    "The following results have been accumulated throughout several runs to optimize our algorithm.\n",
    "\n",
    "<div style=\"display:block;margin-top:20px;\">\n",
    "<table style=\"display:inline-block\">\n",
    "    <tr>\n",
    "        <td>Run 1</td>\n",
    "        <td>Normal</td>\n",
    "        <td>Pneumonia</td>\n",
    "    </tr>\n",
    "    <tr>\n",
    "        <td>Normal</td>\n",
    "        <td>234</td>\n",
    "        <td>123</td>\n",
    "    </tr>\n",
    "    <tr>\n",
    "        <td>Pneumonia</td>\n",
    "        <td>116</td>\n",
    "        <td>831</td>\n",
    "    </tr>\n",
    "</table>\n",
    "    <table style=\"display:inline-block\">\n",
    "    <tr>\n",
    "        <td>Run 4</td>\n",
    "        <td>Normal</td>\n",
    "        <td>Pneumonia</td>\n",
    "    </tr>\n",
    "    <tr>\n",
    "        <td>Normal</td>\n",
    "        <td>268</td>\n",
    "        <td>111</td>\n",
    "    </tr>\n",
    "    <tr>\n",
    "        <td>Pneumonia</td>\n",
    "        <td>89</td>\n",
    "        <td>836</td>\n",
    "    </tr>\n",
    "</table>\n",
    "</div>\n",
    "<table style=\"display:inline-block\">\n",
    "    <tr>\n",
    "        <td>Run #</td>\n",
    "        <td>k</td>\n",
    "        <td>Raw Pixel Acc</td>\n",
    "        <td>Histogram Acc</td>\n",
    "    </tr>\n",
    "    <tr>\n",
    "        <td>1</td>\n",
    "        <td>3</td>\n",
    "        <td>91.03%</td>\n",
    "        <td>83.28%</td>\n",
    "    </tr>\n",
    "    <tr>\n",
    "        <td>2</td>\n",
    "        <td>1</td>\n",
    "        <td>90.95%</td>\n",
    "        <td>81.67%</td>\n",
    "    </tr>\n",
    "    <tr>\n",
    "        <td>3</td>\n",
    "        <td>7</td>\n",
    "        <td>91.18%</td>\n",
    "        <td>84.28%</td>\n",
    "    </tr>\n",
    "    <tr>\n",
    "        <td>4</td>\n",
    "        <td>9</td>\n",
    "        <td>90.72%</td>\n",
    "        <td>83.66%</td>\n",
    "    </tr>\n",
    "</table>"
   ]
  },
  {
   "cell_type": "code",
   "execution_count": null,
   "metadata": {
    "scrolled": true
   },
   "outputs": [],
   "source": [
    "import plotly.express as px\n",
    "\n",
    "\"\"\"\n",
    "Plot the prediction probabilites of the test data to gain\n",
    "a visual of the data\n",
    "\"\"\"\n",
    "def plot_spread():\n",
    "#     y_score = ri_model.predict_proba(testRI)[:, 1]\n",
    "    y_score = fea_model.predict_proba(testFeat)[:, 1]\n",
    "\n",
    "    fig = px.scatter(\n",
    "        testFeat, x=0, y=1,\n",
    "        color=y_score, color_continuous_scale='RdBu',\n",
    "        symbol=testLabels, symbol_map={'0': 'square-dot', '1': 'circle-dot'},\n",
    "        labels={'symbol': 'label', 'color': 'score of <br>first class'}\n",
    "    )\n",
    "    fig.update_traces(marker_size=12, marker_line_width=1.5)\n",
    "    fig.update_layout(legend_orientation='h')\n",
    "    fig.show()\n",
    "\n",
    "print(features.shape)\n",
    "print(labels.shape)\n",
    "\n",
    "plot_spread()"
   ]
  },
  {
   "cell_type": "code",
   "execution_count": null,
   "metadata": {},
   "outputs": [],
   "source": []
  }
 ],
 "metadata": {
  "kernelspec": {
   "display_name": "Python 3",
   "language": "python",
   "name": "python3"
  },
  "language_info": {
   "codemirror_mode": {
    "name": "ipython",
    "version": 3
   },
   "file_extension": ".py",
   "mimetype": "text/x-python",
   "name": "python",
   "nbconvert_exporter": "python",
   "pygments_lexer": "ipython3",
   "version": "3.7.4"
  }
 },
 "nbformat": 4,
 "nbformat_minor": 2
}
