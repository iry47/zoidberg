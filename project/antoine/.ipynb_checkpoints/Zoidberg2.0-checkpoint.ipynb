{
 "cells": [
  {
   "cell_type": "code",
   "execution_count": 5,
   "metadata": {},
   "outputs": [],
   "source": [
    "from pathlib import Path\n",
    "import glob\n",
    "import pandas as pd\n",
    "import cv2 as cv\n",
    "import numpy as np\n",
    "import random\n",
    "from sklearn.svm import SVC"
   ]
  },
  {
   "cell_type": "markdown",
   "metadata": {},
   "source": [
    "# Step 1/   Fetching Images\n",
    "\n",
    ">Reading images and filling up our DataFrame with all our images labeled: No Pneumonia(0), Virus(1) and Bacteria(2)"
   ]
  },
  {
   "cell_type": "code",
   "execution_count": 2,
   "metadata": {
    "tags": []
   },
   "outputs": [
    {
     "name": "stdout",
     "output_type": "stream",
     "text": [
      "Training data:\n",
      "                                                 image  label\n",
      "0               dataset\\train\\NORMAL\\IM-0115-0001.jpeg      0\n",
      "1               dataset\\train\\NORMAL\\IM-0117-0001.jpeg      0\n",
      "2               dataset\\train\\NORMAL\\IM-0119-0001.jpeg      0\n",
      "3               dataset\\train\\NORMAL\\IM-0122-0001.jpeg      0\n",
      "4               dataset\\train\\NORMAL\\IM-0125-0001.jpeg      0\n",
      "...                                                ...    ...\n",
      "5211   dataset\\train\\PNEUMONIA\\person99_virus_183.jpeg      1\n",
      "5212  dataset\\train\\PNEUMONIA\\person9_bacteria_38.jpeg      1\n",
      "5213  dataset\\train\\PNEUMONIA\\person9_bacteria_39.jpeg      1\n",
      "5214  dataset\\train\\PNEUMONIA\\person9_bacteria_40.jpeg      1\n",
      "5215  dataset\\train\\PNEUMONIA\\person9_bacteria_41.jpeg      1\n",
      "\n",
      "[5216 rows x 2 columns]\n"
     ]
    }
   ],
   "source": [
    "train_data = []\n",
    "root_train_images_dir = Path('../dataset/train')\n",
    "subdirectories = ['NORMAL', 'PNEUMONIA']\n",
    "    \n",
    "for sub in subdirectories:\n",
    "    images_dir = root_train_images_dir / sub\n",
    "    images = images_dir.glob('*.jpeg')\n",
    "    for img in images:\n",
    "        if sub == 'PNEUMONIA':\n",
    "            train_data.append((img, 1))\n",
    "        else:\n",
    "            train_data.append((img, 0))\n",
    "train_data = pd.DataFrame(train_data, columns=['image', 'label'], index = None)\n",
    "print(\"Training data:\\n{}\".format(train_data))\n"
   ]
  },
  {
   "cell_type": "markdown",
   "metadata": {},
   "source": [
    "# Step 2/    Image conversion and data augmentation\n",
    ">Reading all images in our DataFrame. Then we will resize them to fit 64x64 and will apply some changes to duplicate images with modifications like rotation, blurring, etc. It is called data augmentation."
   ]
  },
  {
   "cell_type": "code",
   "execution_count": 9,
   "metadata": {
    "tags": []
   },
   "outputs": [
    {
     "name": "stdout",
     "output_type": "stream",
     "text": [
      "Base:\n",
      "Features: 5216\n",
      "Labels: 5216\n",
      "\n",
      "Low:\n",
      "Features: 15648\n",
      "Labels: 15648\n",
      "\n",
      "Medium:\n",
      "Features: 20864\n",
      "Labels: 20864\n",
      "\n",
      "High:\n",
      "Features: 20864\n",
      "Labels: 20864\n",
      "\n"
     ]
    }
   ],
   "source": [
    "train_features = {'base': [], 'low': [], 'medium': [], 'high': []}\n",
    "train_labels = {'base': [], 'low': [], 'medium': [], 'high': []}\n",
    "levels = ['base', 'low', 'medium', 'high']\n",
    "\n",
    "def histogram_equalization(img, label):\n",
    "    tmp = cv.cvtColor(img, cv.COLOR_BGR2YUV)\n",
    "    tmp[:,:,0] = cv.equalizeHist(tmp[:,:,0])\n",
    "    result = cv.cvtColor(tmp, cv.COLOR_YUV2BGR)\n",
    "    for l in levels:\n",
    "        if l != 'base':\n",
    "            train_features[l].append(np.array(result))\n",
    "            train_labels[l].append(label)\n",
    "\n",
    "def rotation(img, label):\n",
    "    rows, cols = img.shape[0], img.shape[1]\n",
    "    rotate_low = random.randint(-180, 180)\n",
    "    matrice = cv.getRotationMatrix2D((cols / 2, rows / 2), rotate_low, .7)\n",
    "    result = cv.warpAffine(img, matrice, (rows, cols), borderMode=cv.BORDER_CONSTANT, borderValue=(144, 159, 162))\n",
    "    for l in levels:\n",
    "        if l != 'base':\n",
    "            train_features[l].append(np.array(result))\n",
    "            train_labels[l].append(label)\n",
    "    rotate_medium = rotate_low\n",
    "    while rotate_medium == rotate_low:\n",
    "        rotate_medium = random.randint(-180, 180)\n",
    "    matrice = cv.getRotationMatrix2D((cols / 2, rows / 2), rotate_medium, .7)\n",
    "    result = cv.warpAffine(img, matrice, (rows, cols), borderMode=cv.BORDER_CONSTANT, borderValue=(144, 159, 162))\n",
    "    for l in levels:\n",
    "        if l != 'base' and l != 'low':\n",
    "            train_features[l].append(np.array(result))\n",
    "            train_labels[l].append(label)\n",
    "\n",
    "for data in train_data.values:\n",
    "    img = cv.imread(data[0].__str__())\n",
    "    img = cv.resize(img, (64, 64))\n",
    "    for l in levels:\n",
    "        train_features[l].append(np.array(img))\n",
    "        train_labels[l].append(data[1])\n",
    "    histogram_equalization(img, data[1])\n",
    "    rotation(img, data[1])\n",
    "\n",
    "for l in levels:\n",
    "    print(\"{}:\".format(l.capitalize()))\n",
    "    print(\"Features: {}\".format(train_features[l].__len__()))\n",
    "    print(\"Labels: {}\\n\".format(train_labels[l].__len__()))\n",
    "\n",
    "#   Dans train_features on a les différentes images à envoyer au modèle sous forme de numpy arrays. Et dans train labels , les labels correspondant aux différentes images."
   ]
  },
  {
   "cell_type": "code",
   "execution_count": null,
   "metadata": {},
   "outputs": [],
   "source": []
  }
 ],
 "metadata": {
  "kernelspec": {
   "display_name": "Python 3",
   "language": "python",
   "name": "python3"
  },
  "language_info": {
   "codemirror_mode": {
    "name": "ipython",
    "version": 3
   },
   "file_extension": ".py",
   "mimetype": "text/x-python",
   "name": "python",
   "nbconvert_exporter": "python",
   "pygments_lexer": "ipython3",
   "version": "3.7.4"
  },
  "metadata": {
   "interpreter": {
    "hash": "e90ce0a2fd1a448e4f32e581dbc013594dce719660223ef855539b3edb4dceb3"
   }
  }
 },
 "nbformat": 4,
 "nbformat_minor": 2
}
